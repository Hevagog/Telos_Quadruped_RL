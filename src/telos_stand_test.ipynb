{
 "cells": [
  {
   "cell_type": "code",
   "execution_count": null,
   "metadata": {},
   "outputs": [],
   "source": [
    "from agent import TelosAgent\n",
    "from environment import TelosTaskEnv, make_env\n",
    "from task import TelosTask\n",
    "from standing_task.standing_task import StandingTelosTask\n",
    "from standing_task.standing_environment import StandingTelosTaskEnv,make_standing_env\n",
    "from time import sleep\n",
    "import pybullet as p\n",
    "from utils.PyBullet import PyBullet\n",
    "from stable_baselines3.common.env_util import make_vec_env\n",
    "from stable_baselines3.common.vec_env import VecNormalize\n",
    "from stable_baselines3.common.noise import NormalActionNoise\n",
    "from stable_baselines3 import SAC, PPO\n",
    "import numpy as np\n",
    "from stable_baselines3.common.sb2_compat.rmsprop_tf_like import RMSpropTFLike\n",
    "\n",
    "from stable_baselines3.common.env_checker import check_env"
   ]
  },
  {
   "cell_type": "code",
   "execution_count": 2,
   "metadata": {},
   "outputs": [],
   "source": [
    "pb = PyBullet(render_mode=\"rgb_array\",renderer=\"Tiny\")\n",
    "telos_agent = TelosAgent(pb)\n",
    "telos_task = StandingTelosTask(agent=telos_agent,sim_engine=pb)\n",
    "telos_env = StandingTelosTaskEnv(task=telos_task, agent=telos_agent, sim_engine=pb)"
   ]
  },
  {
   "cell_type": "code",
   "execution_count": null,
   "metadata": {},
   "outputs": [],
   "source": [
    "telos_env.reset()\n",
    "telos_env.step(telos_env.action_space.sample())"
   ]
  },
  {
   "cell_type": "code",
   "execution_count": 9,
   "metadata": {},
   "outputs": [],
   "source": [
    "goal = telos_env.step(telos_env.action_space.sample())[4][\"goal_position\"]"
   ]
  },
  {
   "cell_type": "code",
   "execution_count": 10,
   "metadata": {},
   "outputs": [],
   "source": [
    "obs = telos_env.step(telos_env.action_space.sample())[0][\"agent\"]\n",
    "obs = obs[7:31]\n",
    "joint_pos,joint_vel = obs[::2],obs[1::2]\n",
    "centre_of_mass = pb.get_center_of_mass(1)"
   ]
  },
  {
   "cell_type": "code",
   "execution_count": null,
   "metadata": {},
   "outputs": [],
   "source": [
    "f_standing,A_standing = rmp_standing(joint_pos,joint_vel,goal,centre_of_mass)\n",
    "f_joint_limits,A_joint_limits = RMP_joint_limits(joint_pos,joint_vel, )"
   ]
  },
  {
   "cell_type": "code",
   "execution_count": null,
   "metadata": {},
   "outputs": [],
   "source": [
    "f_standing,A_standing"
   ]
  },
  {
   "cell_type": "code",
   "execution_count": 4,
   "metadata": {},
   "outputs": [],
   "source": [
    "env = make_vec_env(make_standing_env, n_envs=8, env_kwargs={\"task\": telos_task, \"agent\": telos_agent, \"sim\": pb})\n",
    "env = VecNormalize(env, norm_obs=True, norm_reward=True)"
   ]
  },
  {
   "cell_type": "code",
   "execution_count": 5,
   "metadata": {},
   "outputs": [],
   "source": [
    "policy_sac =  dict(net_arch=dict(pi=[512, 512, 512], qf=[512, 512,512]))"
   ]
  },
  {
   "cell_type": "code",
   "execution_count": 6,
   "metadata": {},
   "outputs": [],
   "source": [
    "n_actions = env.action_space.shape[-1]\n",
    "action_noise = NormalActionNoise(mean=np.zeros(n_actions), sigma=0.05 * np.ones(n_actions))"
   ]
  },
  {
   "cell_type": "code",
   "execution_count": null,
   "metadata": {},
   "outputs": [],
   "source": [
    "model_sac = SAC(\n",
    "    policy=\"MultiInputPolicy\",\n",
    "    env=env,\n",
    "    policy_kwargs=policy_sac,\n",
    "    # action_noise= action_noise,\n",
    "    learning_rate=1e-3,\n",
    "    buffer_size= int(1e5),\n",
    "    batch_size= 2048,\n",
    "    ent_coef='auto',\n",
    "    gamma= 0.997,\n",
    "    tau= 0.005,\n",
    "    # train_freq= 1,\n",
    "    # gradient_steps= -1,\n",
    "    # optimize_memory_usage= False,\n",
    "    # target_update_interval= 1,\n",
    "    verbose= 1,\n",
    "    tensorboard_log=\"./tensorboard/standing_task/sacTelos/\",\n",
    ")"
   ]
  },
  {
   "cell_type": "code",
   "execution_count": null,
   "metadata": {},
   "outputs": [],
   "source": [
    "model_sac.learn(1_000_000)"
   ]
  },
  {
   "cell_type": "code",
   "execution_count": null,
   "metadata": {},
   "outputs": [],
   "source": [
    "model_sac.save(\"sac_standing_task_3\")"
   ]
  },
  {
   "cell_type": "code",
   "execution_count": null,
   "metadata": {},
   "outputs": [],
   "source": [
    "pb_t = PyBullet(render_mode=\"rgb_array\",renderer=\"OpenGL\")\n",
    "telos_agent_t = TelosAgent(pb_t)\n",
    "telos_task_t = StandingTelosTask(agent=telos_agent_t,sim_engine=pb_t)\n",
    "telos_env_t = StandingTelosTaskEnv(task=telos_task_t, agent=telos_agent_t, sim_engine=pb_t)"
   ]
  },
  {
   "cell_type": "code",
   "execution_count": null,
   "metadata": {},
   "outputs": [],
   "source": [
    "test_model = SAC.load(\"sac_standing_task\")"
   ]
  },
  {
   "cell_type": "code",
   "execution_count": null,
   "metadata": {},
   "outputs": [],
   "source": []
  }
 ],
 "metadata": {
  "kernelspec": {
   "display_name": "venv",
   "language": "python",
   "name": "python3"
  },
  "language_info": {
   "codemirror_mode": {
    "name": "ipython",
    "version": 3
   },
   "file_extension": ".py",
   "mimetype": "text/x-python",
   "name": "python",
   "nbconvert_exporter": "python",
   "pygments_lexer": "ipython3",
   "version": "3.9.18"
  }
 },
 "nbformat": 4,
 "nbformat_minor": 2
}
