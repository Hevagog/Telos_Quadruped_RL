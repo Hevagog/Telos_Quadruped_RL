{
 "cells": [
  {
   "cell_type": "code",
   "execution_count": null,
   "metadata": {},
   "outputs": [],
   "source": [
    "from agent import TelosAgent\n",
    "from environment import TelosTaskEnv, make_env\n",
    "from task import TelosTask\n",
    "from time import sleep\n",
    "import pybullet as p\n",
    "\n",
    "from stable_baselines3.common.env_util import make_vec_env\n",
    "from stable_baselines3.common.vec_env import DummyVecEnv, VecNormalize\n",
    "from stable_baselines3 import SAC, PPO\n"
   ]
  },
  {
   "cell_type": "code",
   "execution_count": 2,
   "metadata": {},
   "outputs": [],
   "source": [
    "from standing_task.standing_task import StandingTelosTask\n",
    "from standing_task.standing_environment import StandingTelosTaskEnv"
   ]
  },
  {
   "cell_type": "code",
   "execution_count": 3,
   "metadata": {},
   "outputs": [],
   "source": [
    "import RMP\n",
    "import utils.stability_functions as sf\n",
    "import utils.target_functions as tfun\n",
    "from utils.PyBullet import PyBullet\n",
    "from utils.helper import load_yaml"
   ]
  },
  {
   "cell_type": "code",
   "execution_count": null,
   "metadata": {},
   "outputs": [],
   "source": [
    "pb = PyBullet(render_mode=\"rgb_array\",renderer=\"Tiny\")\n",
    "telos_agent = TelosAgent(pb)\n",
    "telos_task = StandingTelosTask(agent=telos_agent,sim_engine=pb)\n",
    "telos_env = StandingTelosTaskEnv(task=telos_task, agent=telos_agent, sim_engine=pb)"
   ]
  },
  {
   "cell_type": "code",
   "execution_count": null,
   "metadata": {},
   "outputs": [],
   "source": [
    "telos_task.sim.get_pitch_angle(telos_task.agent.robot_agent),telos_task.sim.get_roll_angle(telos_task.agent.robot_agent),telos_task.sim.get_yaw_angle(telos_task.agent.robot_agent)"
   ]
  },
  {
   "cell_type": "code",
   "execution_count": 6,
   "metadata": {},
   "outputs": [],
   "source": [
    "test_model = SAC.load(\"tqc_standing_task\")"
   ]
  },
  {
   "cell_type": "code",
   "execution_count": 7,
   "metadata": {},
   "outputs": [],
   "source": [
    "obs,_ = telos_env.reset()"
   ]
  },
  {
   "cell_type": "code",
   "execution_count": null,
   "metadata": {},
   "outputs": [],
   "source": [
    "obs[\"agent\"]"
   ]
  },
  {
   "cell_type": "code",
   "execution_count": null,
   "metadata": {},
   "outputs": [],
   "source": [
    "for i in range(2):\n",
    "    obs,_ = telos_env.reset()\n",
    "    done = False\n",
    "    while not done:\n",
    "        action,_ = test_model.predict(obs, deterministic=True)\n",
    "        obs, rewards, done,_, info = telos_env.step(action)\n",
    "        if done:\n",
    "            sleep(8)\n",
    "        telos_env.render()\n",
    "        sleep(1/240)\n",
    "    print(f\"Episode {i} done\")"
   ]
  },
  {
   "cell_type": "code",
   "execution_count": 5,
   "metadata": {},
   "outputs": [],
   "source": [
    "env = DummyVecEnv([lambda: telos_env])\n",
    "env = VecNormalize(env, norm_obs=True, norm_reward=True, clip_obs=10.)"
   ]
  },
  {
   "cell_type": "code",
   "execution_count": 35,
   "metadata": {},
   "outputs": [],
   "source": []
  },
  {
   "cell_type": "code",
   "execution_count": 7,
   "metadata": {},
   "outputs": [],
   "source": [
    "import time\n",
    "from tqdm import tqdm"
   ]
  },
  {
   "cell_type": "code",
   "execution_count": 54,
   "metadata": {},
   "outputs": [],
   "source": [
    "telos_env.reset()\n",
    "angular_velocities = []"
   ]
  },
  {
   "cell_type": "code",
   "execution_count": null,
   "metadata": {},
   "outputs": [],
   "source": [
    "for _ in tqdm(range(1_000)):\n",
    "    action = telos_env.action_space.sample()\n",
    "    obs, _, _, _, _ = telos_env.step(action)\n",
    "    obs = obs[\"agent\"]\n",
    "    # first 7 values are the joint positions, next 12 values are angular velocities, the shape is 34\n",
    "    # print(obs,\"\\n\",obs[7:19])\n",
    "    angular_velocities.extend(obs[7:19].flatten().tolist())\n",
    "    # for x in obs[7:19]:\n",
    "    #     angular_velocities.append(x)\n",
    "    # time.sleep(1/240)\n",
    "    "
   ]
  },
  {
   "cell_type": "code",
   "execution_count": 56,
   "metadata": {},
   "outputs": [],
   "source": [
    "import numpy as np"
   ]
  },
  {
   "cell_type": "code",
   "execution_count": null,
   "metadata": {},
   "outputs": [],
   "source": [
    "angular_velocities"
   ]
  },
  {
   "cell_type": "code",
   "execution_count": null,
   "metadata": {},
   "outputs": [],
   "source": [
    "max(angular_velocities), min(angular_velocities), np.mean(angular_velocities)"
   ]
  },
  {
   "cell_type": "code",
   "execution_count": null,
   "metadata": {},
   "outputs": [],
   "source": [
    "act = env.action_space.sample()\n",
    "env.step(act)"
   ]
  },
  {
   "cell_type": "code",
   "execution_count": null,
   "metadata": {},
   "outputs": [],
   "source": [
    "for _ in range(1000):\n",
    "    env.step(env.action_space.sample())"
   ]
  },
  {
   "cell_type": "code",
   "execution_count": 7,
   "metadata": {},
   "outputs": [],
   "source": [
    "# Saving the statistics\n",
    "env.save(\"vec_normalize_stats.pkl\")\n",
    "\n",
    "# Loading the statistics\n",
    "env = DummyVecEnv([lambda: telos_env])\n",
    "env = VecNormalize.load(\"vec_normalize_stats.pkl\", env)"
   ]
  },
  {
   "cell_type": "code",
   "execution_count": null,
   "metadata": {},
   "outputs": [],
   "source": [
    "obs = env.reset()\n",
    "print(f\"Initial normalized observation: {obs}\")\n"
   ]
  },
  {
   "cell_type": "code",
   "execution_count": null,
   "metadata": {},
   "outputs": [],
   "source": [
    "import numpy as np\n",
    "\n",
    "obs_mean = []\n",
    "for _ in range(10000):\n",
    "    obs = env.reset()['agent']\n",
    "    obs_mean.append(obs[0])\n",
    "\n",
    "obs_mean = np.mean(obs_mean, axis=0)\n",
    "obs_var = np.var(obs_mean, axis=0)\n",
    "\n",
    "print(f\"Mean of observations: {obs_mean}\")\n",
    "print(f\"Variance of observations: {obs_var}\")\n"
   ]
  },
  {
   "cell_type": "code",
   "execution_count": 6,
   "metadata": {},
   "outputs": [],
   "source": [
    "telos_env.sim.step_simulation()"
   ]
  },
  {
   "cell_type": "code",
   "execution_count": null,
   "metadata": {},
   "outputs": [],
   "source": [
    "telos_env.step(telos_env.action_space.sample())"
   ]
  },
  {
   "cell_type": "code",
   "execution_count": null,
   "metadata": {},
   "outputs": [],
   "source": [
    "_config = load_yaml(\"pybullet_config.yaml\")"
   ]
  },
  {
   "cell_type": "code",
   "execution_count": null,
   "metadata": {},
   "outputs": [],
   "source": [
    "_config[\"task\"][\"fall_threshold\"]"
   ]
  },
  {
   "cell_type": "code",
   "execution_count": null,
   "metadata": {},
   "outputs": [],
   "source": [
    "\n",
    "Kp = _config[\"stability_policy\"][\"Kp\"]\n",
    "Kd = _config[\"stability_policy\"][\"Kd\"]\n",
    "\n",
    "z_position_emphasis = _config[\"stability_metric\"][\"z_position_emphasis\"]\n",
    "pitch_emphasis = _config[\"stability_metric\"][\"pitch_emphasis\"]"
   ]
  },
  {
   "cell_type": "code",
   "execution_count": null,
   "metadata": {},
   "outputs": [],
   "source": [
    "stability_rmp = RMP.RMP(\n",
    "    sf.get_stability_task_map_from_obs,\n",
    "    sf.stability_policy,\n",
    "    sf.stability_metric,\n",
    "    Kp=Kp,\n",
    "    Kd=Kd,\n",
    "    z_position_emphasis=z_position_emphasis,\n",
    "    pitch_emphasis=pitch_emphasis)\n",
    "target_rmp = RMP.RMP(\n",
    "    lambda obs: sf.target_task_map(obs, telos_env.task.goal),\n",
    "    tfun.target_policy,\n",
    "    tfun.target_metric,\n",
    "    Kp=Kp,\n",
    "    Kd=Kd,\n",
    "    z_position_emphasis=z_position_emphasis,\n",
    "    pitch_emphasis=pitch_emphasis\n",
    ")\n",
    "global_rmp_policy = RMP.GlobalRMPPolicy(\n",
    "    [stability_rmp, target_rmp]\n",
    ")"
   ]
  },
  {
   "cell_type": "code",
   "execution_count": null,
   "metadata": {},
   "outputs": [],
   "source": [
    "env = RMP.RMPRewardWrapper(telos_env, global_rmp_policy)"
   ]
  },
  {
   "cell_type": "code",
   "execution_count": null,
   "metadata": {},
   "outputs": [],
   "source": [
    "model = PPO('MultiInputPolicy', telos_env, verbose=1)\n",
    "model.learn(total_timesteps=50)"
   ]
  },
  {
   "cell_type": "code",
   "execution_count": null,
   "metadata": {},
   "outputs": [],
   "source": [
    "env.step(telos_env.action_space.sample())"
   ]
  },
  {
   "cell_type": "markdown",
   "metadata": {},
   "source": [
    "---"
   ]
  },
  {
   "cell_type": "code",
   "execution_count": null,
   "metadata": {},
   "outputs": [],
   "source": [
    "telos_agent = TelosAgent(render_mode=\"rgb_array\",renderer=\"Tiny\")\n",
    "telos_task = TelosTask(agent=telos_agent)\n",
    "telos_env = TelosTaskEnv(task=telos_task, agent=telos_agent)"
   ]
  },
  {
   "cell_type": "code",
   "execution_count": null,
   "metadata": {},
   "outputs": [],
   "source": [
    "env = make_vec_env(make_env, n_envs=4, env_kwargs={\"task\": telos_task, \"agent\": telos_agent, \"render_mode\": \"rgb_array\"})\n",
    "env = VecNormalize(env, norm_obs=True, norm_reward=True, clip_obs=10.)"
   ]
  },
  {
   "cell_type": "code",
   "execution_count": null,
   "metadata": {},
   "outputs": [],
   "source": []
  },
  {
   "cell_type": "code",
   "execution_count": null,
   "metadata": {},
   "outputs": [],
   "source": [
    "policy_sac =  dict(net_arch=dict(pi=[512, 512,512], qf=[512, 512,512]))"
   ]
  },
  {
   "cell_type": "code",
   "execution_count": null,
   "metadata": {},
   "outputs": [],
   "source": [
    "model_sac = SAC(\n",
    "    policy=\"MultiInputPolicy\",\n",
    "    env=env,\n",
    "    policy_kwargs=policy_sac,\n",
    "    learning_rate= 3.5e-4,\n",
    "    buffer_size= int(1e6),\n",
    "    batch_size= 2048,\n",
    "    ent_coef= \"auto\",\n",
    "    gamma= 0.99,\n",
    "    tau= 0.005,\n",
    "    train_freq= 1,\n",
    "    gradient_steps= 1,\n",
    "    action_noise= None,\n",
    "    optimize_memory_usage= False,\n",
    "    target_update_interval= 1,\n",
    "    verbose= 1,\n",
    "    tensorboard_log=\"./tensorboard/sacTelos/\",\n",
    ")"
   ]
  },
  {
   "cell_type": "code",
   "execution_count": null,
   "metadata": {},
   "outputs": [],
   "source": [
    "model_sac.learn(500_000)"
   ]
  },
  {
   "cell_type": "code",
   "execution_count": null,
   "metadata": {},
   "outputs": [],
   "source": []
  },
  {
   "cell_type": "code",
   "execution_count": null,
   "metadata": {},
   "outputs": [],
   "source": [
    "for _ in range(1000):\n",
    "    # print(telos_task.compute_reward(telos_agent._get_obs()[0:3], telos_task.goal))\n",
    "    telos_agent.step_simulation()\n",
    "    sleep(1.0/60.0)"
   ]
  },
  {
   "cell_type": "code",
   "execution_count": null,
   "metadata": {},
   "outputs": [],
   "source": []
  },
  {
   "cell_type": "code",
   "execution_count": null,
   "metadata": {},
   "outputs": [],
   "source": []
  }
 ],
 "metadata": {
  "kernelspec": {
   "display_name": "venv",
   "language": "python",
   "name": "python3"
  },
  "language_info": {
   "codemirror_mode": {
    "name": "ipython",
    "version": 3
   },
   "file_extension": ".py",
   "mimetype": "text/x-python",
   "name": "python",
   "nbconvert_exporter": "python",
   "pygments_lexer": "ipython3",
   "version": "3.9.18"
  }
 },
 "nbformat": 4,
 "nbformat_minor": 2
}
