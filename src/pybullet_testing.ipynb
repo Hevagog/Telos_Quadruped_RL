{
 "cells": [
  {
   "cell_type": "code",
   "execution_count": 1,
   "metadata": {},
   "outputs": [
    {
     "name": "stderr",
     "output_type": "stream",
     "text": [
      "pybullet build time: Nov 28 2023 23:45:17\n"
     ]
    }
   ],
   "source": [
    "import numpy as np\n",
    "from agent import TelosAgent\n",
    "from environment import TelosTaskEnv\n",
    "from task import TelosTask\n",
    "from time import sleep\n",
    "import pybullet as p\n",
    "from utils.pybullet_helper import *\n",
    "from utils.PyBullet import PyBullet\n",
    "from utils.telos_joints import MOVING_JOINTS,HIP_MIN_ANGLE,THIGH_MIN_ANGLE,KNEE_MAX_ANGLE,THIGH_MAX_ANGLE"
   ]
  },
  {
   "cell_type": "code",
   "execution_count": 2,
   "metadata": {},
   "outputs": [
    {
     "name": "stdout",
     "output_type": "stream",
     "text": [
      "startThreads creating 1 threads.\n",
      "starting thread 0\n",
      "started thread 0 \n",
      "argc=2\n",
      "argv[0] = --unused\n",
      "argv[1] = --start_demo_name=Physics Server\n",
      "ExampleBrowserThreadFunc started\n",
      "X11 functions dynamically loaded using dlopen/dlsym OK!\n",
      "X11 functions dynamically loaded using dlopen/dlsym OK!\n",
      "Creating context\n",
      "Created GL 3.3 context\n",
      "Direct GLX rendering context obtained\n",
      "Making context current\n",
      "GL_VENDOR=Microsoft Corporation\n",
      "GL_RENDERER=D3D12 (Intel(R) Iris(R) Xe Graphics)\n",
      "GL_VERSION=4.1 (Core Profile) Mesa 23.2.1-1ubuntu3.1~22.04.2\n",
      "GL_SHADING_LANGUAGE_VERSION=4.10\n",
      "pthread_getconcurrency()=0\n",
      "Version = 4.1 (Core Profile) Mesa 23.2.1-1ubuntu3.1~22.04.2\n",
      "Vendor = Microsoft Corporation\n",
      "Renderer = D3D12 (Intel(R) Iris(R) Xe Graphics)\n",
      "b3Printf: Selected demo: Physics Server\n",
      "startThreads creating 1 threads.\n",
      "starting thread 0\n",
      "started thread 0 \n",
      "MotionThreadFunc thread started\n",
      "ven = Microsoft Corporation\n",
      "ven = Microsoft Corporation\n"
     ]
    }
   ],
   "source": [
    "pb = PyBullet(render_mode=\"rgb_array\",renderer=\"OpenGL\")\n",
    "telos_agent = TelosAgent(pb)"
   ]
  },
  {
   "cell_type": "code",
   "execution_count": 4,
   "metadata": {},
   "outputs": [],
   "source": [
    "\n",
    "from utils.telos_joints import MOVING_JOINTS,HIP_MIN_ANGLE,THIGH_MIN_ANGLE,KNEE_MAX_ANGLE,THIGH_MAX_ANGLE,KNEE_MIN_ANGLE,TelosJoints"
   ]
  },
  {
   "cell_type": "code",
   "execution_count": 11,
   "metadata": {},
   "outputs": [],
   "source": [
    "angles = np.array(\n",
    "    [\n",
    "        0,\n",
    "        THIGH_MIN_ANGLE,\n",
    "        KNEE_MAX_ANGLE,\n",
    "    ]\n",
    "    *4\n",
    ")"
   ]
  },
  {
   "cell_type": "code",
   "execution_count": 5,
   "metadata": {},
   "outputs": [
    {
     "data": {
      "text/plain": [
       "15"
      ]
     },
     "execution_count": 5,
     "metadata": {},
     "output_type": "execute_result"
    }
   ],
   "source": []
  },
  {
   "cell_type": "code",
   "execution_count": 12,
   "metadata": {},
   "outputs": [
    {
     "name": "stdout",
     "output_type": "stream",
     "text": [
      "numActiveThreads = 0\n",
      "stopping threads\n",
      "Thread with taskId 0 exiting\n",
      "destroy semaphore\n",
      "semaphore destroyed\n",
      "Thread TERMINATED\n",
      "destroy main semaphore\n",
      "main semaphore destroyed\n",
      "finished\n"
     ]
    }
   ],
   "source": [
    "# for angle,id in zip(angles,MOVING_JOINTS):\n",
    "pb.reset_joint_state(telos_agent.robot_agent,\n",
    "                     TelosJoints.REVOLUTE_BL_KNEE.value,\n",
    "                     angle)"
   ]
  },
  {
   "cell_type": "code",
   "execution_count": null,
   "metadata": {},
   "outputs": [],
   "source": []
  }
 ],
 "metadata": {
  "kernelspec": {
   "display_name": "venv",
   "language": "python",
   "name": "python3"
  },
  "language_info": {
   "codemirror_mode": {
    "name": "ipython",
    "version": 3
   },
   "file_extension": ".py",
   "mimetype": "text/x-python",
   "name": "python",
   "nbconvert_exporter": "python",
   "pygments_lexer": "ipython3",
   "version": "3.10.12"
  }
 },
 "nbformat": 4,
 "nbformat_minor": 2
}
